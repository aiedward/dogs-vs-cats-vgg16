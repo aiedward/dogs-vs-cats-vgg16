{
 "cells": [
  {
   "cell_type": "markdown",
   "metadata": {},
   "source": [
    "在開始之前, 先從 Kaggle 下載訓練以及測試用的資料:\n",
    "\n",
    "```\n",
    "kg download -u `user_name` -p `password` -c dogs-vs-cats-redux-kernels-edition\n",
    "```\n",
    "\n",
    "不過在下載之前, 必須先到 Kaggle 註冊帳號, 以及同意 Competition 的規則才能下載檔案:\n",
    "https://www.kaggle.com/c/dogs-vs-cats-redux-kernels-edition\n",
    "\n",
    "Todo:\n",
    "1. 建立實驗樣本(Sample)與驗證(Valid)目錄\n",
    "2. 將 Kaggle 的檔案放置到符合 Keras 的目錄結構下\n",
    "3. 載入 VGG16 model, finetune 以及重新對 dogs & cats 作訓練\n",
    "4. 預測 Kaggle 的測試資料\n",
    "5. 驗證測試結果\n",
    "6. 在 Kaggle 上送交結果"
   ]
  },
  {
   "cell_type": "markdown",
   "metadata": {},
   "source": [
    "## 建立實驗樣本與驗證目錄"
   ]
  },
  {
   "cell_type": "code",
   "execution_count": null,
   "metadata": {
    "collapsed": true
   },
   "outputs": [],
   "source": [
    "%pwd\n",
    "%matplotlib inline"
   ]
  },
  {
   "cell_type": "code",
   "execution_count": null,
   "metadata": {},
   "outputs": [],
   "source": [
    "import os, sys\n",
    "current_dir = os.getcwd()\n",
    "ROOT_PATH = current_dir\n",
    "DATA_HOME_PATH = current_dir + '/data/redux'\n",
    "DATA_HOME_PATH"
   ]
  },
  {
   "cell_type": "code",
   "execution_count": null,
   "metadata": {
    "collapsed": true
   },
   "outputs": [],
   "source": [
    "import numpy as np\n",
    "from glob import glob\n",
    "from shutil import copyfile"
   ]
  },
  {
   "cell_type": "code",
   "execution_count": null,
   "metadata": {},
   "outputs": [],
   "source": [
    "%cd $DATA_HOME_PATH\n",
    "%mkdir valid\n",
    "%mkdir results\n",
    "%mkdir sample\n",
    "%mkdir -p sample/valid\n",
    "%mkdir -p sample/train\n",
    "%mkdir -p sample/test/unknown\n",
    "%mkdir -p sample/results"
   ]
  },
  {
   "cell_type": "code",
   "execution_count": null,
   "metadata": {},
   "outputs": [],
   "source": [
    "# 準備驗證資料\n",
    "\n",
    "%cd $DATA_HOME_PATH/train\n",
    "all_training_files = glob(\"*.jpg\")\n",
    "\n",
    "# 打亂檔案列表\n",
    "shuffles = np.random.permutation(all_training_files)\n",
    "if len(shuffles) > 0:\n",
    "    # 取其中 2000 個檔案作為驗證資料用\n",
    "    for i in range(0, 2000):\n",
    "        os.rename(shuffles[i], DATA_HOME_PATH + '/valid/' + shuffles[i])"
   ]
  },
  {
   "cell_type": "code",
   "execution_count": null,
   "metadata": {},
   "outputs": [],
   "source": [
    "# 為解省開發上時間的耗費, 會建立一個資料量相對小的 Sample 目錄, 程式開發完之後再轉移到完整的資料上\n",
    "# 準備樣本的訓練資料\n",
    "%cd $DATA_HOME_PATH/train\n",
    "all_training_files = glob(\"*.jpg\")\n",
    "\n",
    "# 打亂檔案列表\n",
    "shuffles = np.random.permutation(all_training_files)\n",
    "if len(shuffles) > 0:\n",
    "    # 取其中 200 個作為 Sample 的訓練資料\n",
    "    for i in range(0, 200):\n",
    "        copyfile(shuffles[i], DATA_HOME_PATH + '/sample/train/' + shuffles[i])"
   ]
  },
  {
   "cell_type": "code",
   "execution_count": null,
   "metadata": {},
   "outputs": [],
   "source": [
    "# 準備樣本的驗證資料\n",
    "%cd $DATA_HOME_PATH/valid\n",
    "\n",
    "all_valid_files = glob(\"*.jpg\")\n",
    "shuffles = np.random.permutation(all_valid_files)\n",
    "if len(shuffles) > 0:\n",
    "    # 拿其中 50 個檔案作為 Sample 的驗證資料\n",
    "    for i in range(0, 50):\n",
    "        copyfile(shuffles[i], DATA_HOME_PATH + '/sample/valid/' + shuffles[i])"
   ]
  },
  {
   "cell_type": "code",
   "execution_count": null,
   "metadata": {},
   "outputs": [],
   "source": [
    "# 準備樣本的測試資料\n",
    "%cd $DATA_HOME_PATH/test\n",
    "all_test_files = glob(\"*.jpg\")\n",
    "shuffles = np.random.permutation(all_test_files)\n",
    "if len(shuffles) > 0:\n",
    "    for i in range(0, 100):\n",
    "        copyfile(shuffles[i], DATA_HOME_PATH + \"/sample/test/unknown/\" + shuffles[i])"
   ]
  },
  {
   "cell_type": "markdown",
   "metadata": {
    "collapsed": true
   },
   "source": [
    "## 將 Kaggle 的檔案放置到符合 Keras 的目錄結構下\n",
    "\n",
    "Keras 的目錄結構用「類別」名稱作來命名子目錄, 從 Kaggle 下載下來的檔案則是用檔名的區分, 例如 cats.3111.jpg, 所以在這個步驟我們要建立 cats 跟 dogs 子目錄, 並將這些圖檔搬移到相對應的子目錄裡"
   ]
  },
  {
   "cell_type": "code",
   "execution_count": null,
   "metadata": {},
   "outputs": [],
   "source": [
    "%cd $DATA_HOME_PATH/train\n",
    "%mkdir cats\n",
    "%mkdir dogs\n",
    "%mv cat.*.jpg cats/\n",
    "%mv dog.*.jpg dogs/\n",
    "\n",
    "%cd $DATA_HOME_PATH/valid\n",
    "%mkdir cats\n",
    "%mkdir dogs\n",
    "%mv cat.*.jpg cats/\n",
    "%mv dog.*.jpg dogs/\n",
    "\n",
    "%cd $DATA_HOME_PATH/sample/train\n",
    "%mkdir cats\n",
    "%mkdir dogs\n",
    "%mv cat.*.jpg cats/\n",
    "%mv dog.*.jpg dogs/\n",
    "\n",
    "%cd $DATA_HOME_PATH/sample/valid\n",
    "%mkdir cats\n",
    "%mkdir dogs\n",
    "%mv cat.*.jpg cats/\n",
    "%mv dog.*.jpg dogs/"
   ]
  },
  {
   "cell_type": "code",
   "execution_count": null,
   "metadata": {},
   "outputs": [],
   "source": [
    "%cd $DATA_HOME_PATH/test\n",
    "%mkdir unknown\n",
    "%mv *.jpg unknown/"
   ]
  },
  {
   "cell_type": "markdown",
   "metadata": {},
   "source": [
    "## 載入 VGG16 pretrained model, finetune 以及重新對 dogs & cats 作訓練\n",
    "\n",
    "VGG16 是 Visual Geometry Group 的縮寫, 通常有分作 16 層跟 19 層 Neuon Network 的兩種版本, 它可以辨識 ImageNet 中 1500 個影像類別, 是個十分強大的 CNN 演算法, 網路上也可以下載到 pre-trained 的 model, 省下一開始找資料以及 training 上的時間, 可以直接拿來應用\n",
    "\n",
    "這裡用的 VGG16 是直接拿 fast.ai 的實作版本, 這個實作版本與 fast.ai github 上的版本不同, 採用 Python3 跟 Keras2.0"
   ]
  },
  {
   "cell_type": "code",
   "execution_count": null,
   "metadata": {},
   "outputs": [],
   "source": [
    "%cd $ROOT_PATH\n",
    "\n",
    "from vgg16 import Vgg16\n",
    "\n",
    "path = DATA_HOME_PATH + '/sample/'\n",
    "valid_path = path + '/valid/'\n",
    "train_path = path + '/train/'\n",
    "test_path = path + '/test/'\n",
    "result_path = path + '/results/'"
   ]
  },
  {
   "cell_type": "code",
   "execution_count": null,
   "metadata": {
    "collapsed": true
   },
   "outputs": [],
   "source": [
    "# 初始化 vgg 物件, 第一次初始會下載 Vgg16 pre-trained 的 weights, 下載檔案會放在 ~/.keras/models/\n",
    "vgg = Vgg16()"
   ]
  },
  {
   "cell_type": "code",
   "execution_count": null,
   "metadata": {
    "collapsed": true
   },
   "outputs": [],
   "source": [
    "batch_size = 4\n",
    "epoch_num = 2"
   ]
  },
  {
   "cell_type": "markdown",
   "metadata": {},
   "source": [
    "原本 Vgg16 model 可以偵測 1500 種類別, 但是在這裡我們只有兩種類別, 所以透過 Keras 的 finetune 機制將原本的 model mapping 到這兩種類別上\n",
    "\n",
    "get_batches 會使用 Keras API - [Image Preprocessing](https://keras.io/preprocessing/image/), 從指定的目錄中批次將圖片讀出, 並對圖片作正規化, 每張圖片縮放成 244x244 大小"
   ]
  },
  {
   "cell_type": "code",
   "execution_count": null,
   "metadata": {},
   "outputs": [],
   "source": [
    "batches = vgg.get_batches(train_path, batch_size=batch_size)\n",
    "vgg.finetune(batches)"
   ]
  },
  {
   "cell_type": "markdown",
   "metadata": {},
   "source": [
    "接下來, 我們可以跑幾個 epoch 來 retrain model"
   ]
  },
  {
   "cell_type": "code",
   "execution_count": null,
   "metadata": {},
   "outputs": [],
   "source": [
    "train_batches = vgg.get_batches(train_path, batch_size=batch_size)\n",
    "vgg.fit(batches, train_batches, batch_size, nb_epoch=epoch_num)\n",
    "latest_weights_filename = 'ft0.h5' \n",
    "vgg.model.save_weights(result_path + latest_weights_filename)"
   ]
  },
  {
   "cell_type": "markdown",
   "metadata": {},
   "source": [
    "## 測試"
   ]
  },
  {
   "cell_type": "code",
   "execution_count": null,
   "metadata": {
    "scrolled": true
   },
   "outputs": [],
   "source": [
    "batches, probs = vgg.test(test_path, batch_size=batch_size)"
   ]
  },
  {
   "cell_type": "code",
   "execution_count": null,
   "metadata": {},
   "outputs": [],
   "source": [
    "batches.filenames[:5]"
   ]
  },
  {
   "cell_type": "code",
   "execution_count": null,
   "metadata": {
    "collapsed": true
   },
   "outputs": [],
   "source": [
    "from utils import *"
   ]
  },
  {
   "cell_type": "code",
   "execution_count": null,
   "metadata": {},
   "outputs": [],
   "source": [
    "np.set_printoptions(suppress=True, precision=4)\n",
    "print(probs[:5])\n",
    "preds = probs[:,0]\n",
    "labels = np.round(1-preds)"
   ]
  },
  {
   "cell_type": "code",
   "execution_count": null,
   "metadata": {},
   "outputs": [],
   "source": [
    "imgs = []\n",
    "titles = []\n",
    "idx = 0\n",
    "\n",
    "for f in batches.filenames[:5]:\n",
    "    img = Image.open(test_path + f)\n",
    "    imgs.append(img)\n",
    "    if labels[idx] == 0:\n",
    "        titles.append(\"cat\")\n",
    "    else:\n",
    "        titles.append(\"dog\")\n",
    "    idx = idx + 1\n",
    "plots(imgs, titles=titles)"
   ]
  },
  {
   "cell_type": "markdown",
   "metadata": {},
   "source": [
    "## 驗證結果"
   ]
  },
  {
   "cell_type": "code",
   "execution_count": null,
   "metadata": {},
   "outputs": [],
   "source": [
    "batches, probs = vgg.test(valid_path, batch_size=batch_size)"
   ]
  },
  {
   "cell_type": "code",
   "execution_count": null,
   "metadata": {},
   "outputs": [],
   "source": [
    "filenames = batches.filenames\n",
    "expected_labels = batches.classes\n",
    "preds = probs[:, 0]\n",
    "labels = np.round(1-preds)\n",
    "print(labels)\n",
    "print(expected_labels)"
   ]
  },
  {
   "cell_type": "code",
   "execution_count": null,
   "metadata": {
    "collapsed": true
   },
   "outputs": [],
   "source": [
    "def plot_idx(data_path, indexes, filenames, labels, size=5):\n",
    "    imgs = []\n",
    "    titles = []\n",
    "    for c in permutation(indexes)[:size]:\n",
    "        img = Image.open(data_path + \"/\" + filenames[c])\n",
    "        imgs.append(img)\n",
    "        titles.append(labels[c])\n",
    "    plots(imgs, titles=titles)"
   ]
  },
  {
   "cell_type": "code",
   "execution_count": null,
   "metadata": {},
   "outputs": [],
   "source": [
    "# 顯示正確判斷的圖片\n",
    "correct = np.where(labels == expected_labels)[0]\n",
    "print(correct)\n",
    "\n",
    "plot_idx(valid_path, correct, filenames, labels)"
   ]
  },
  {
   "cell_type": "code",
   "execution_count": null,
   "metadata": {},
   "outputs": [],
   "source": [
    "# 顯示錯誤判斷的圖片\n",
    "incorrect = np.where(labels != expected_labels)[0]\n",
    "print(incorrect)\n",
    "\n",
    "plot_idx(valid_path, incorrect, filenames, labels)"
   ]
  },
  {
   "cell_type": "code",
   "execution_count": null,
   "metadata": {},
   "outputs": [],
   "source": [
    "# 顯示正確判為貓咪的圖片\n",
    "correct_cats = np.where((labels == expected_labels) & (labels == 0))[0]\n",
    "\n",
    "plot_idx(valid_path, correct_cats, filenames, labels)"
   ]
  },
  {
   "cell_type": "code",
   "execution_count": null,
   "metadata": {},
   "outputs": [],
   "source": [
    "# 顯示正確判斷為狗狗的圖片\n",
    "correct_dogs = np.where((labels == expected_labels) & (labels == 1))[0]\n",
    "\n",
    "plot_idx(valid_path, correct_dogs, filenames, labels)"
   ]
  },
  {
   "cell_type": "code",
   "execution_count": null,
   "metadata": {},
   "outputs": [],
   "source": [
    "# 顯示貓咪誤判的圖片\n",
    "incorrect_cats = np.where((labels != expected_labels) & (labels == 0))[0]\n",
    "\n",
    "plot_idx(valid_path, incorrect_cats, filenames, labels)"
   ]
  },
  {
   "cell_type": "code",
   "execution_count": null,
   "metadata": {},
   "outputs": [],
   "source": [
    "# 顯示狗狗誤判的圖片\n",
    "incorrect_dogs = np.where((labels != expected_labels) & (labels == 1))[0]\n",
    "\n",
    "plot_idx(valid_path, incorrect_dogs, filenames, labels)"
   ]
  },
  {
   "cell_type": "code",
   "execution_count": null,
   "metadata": {
    "collapsed": true
   },
   "outputs": [],
   "source": [
    "from sklearn.metrics import confusion_matrix\n",
    "cm = confusion_matrix(expected_labels, labels)"
   ]
  },
  {
   "cell_type": "code",
   "execution_count": null,
   "metadata": {},
   "outputs": [],
   "source": [
    "plot_confusion_matrix(cm, val_batches.class_indices)"
   ]
  },
  {
   "cell_type": "code",
   "execution_count": null,
   "metadata": {
    "collapsed": true
   },
   "outputs": [],
   "source": []
  }
 ],
 "metadata": {
  "kernelspec": {
   "display_name": "Python 3",
   "language": "python",
   "name": "python3"
  },
  "language_info": {
   "codemirror_mode": {
    "name": "ipython",
    "version": 3
   },
   "file_extension": ".py",
   "mimetype": "text/x-python",
   "name": "python",
   "nbconvert_exporter": "python",
   "pygments_lexer": "ipython3",
   "version": "3.6.3"
  }
 },
 "nbformat": 4,
 "nbformat_minor": 2
}
